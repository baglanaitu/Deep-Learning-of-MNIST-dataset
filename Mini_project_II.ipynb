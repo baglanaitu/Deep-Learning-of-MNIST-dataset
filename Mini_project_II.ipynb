{
  "nbformat": 4,
  "nbformat_minor": 5,
  "metadata": {
    "kernelspec": {
      "display_name": "Python 3",
      "language": "python",
      "name": "python3"
    },
    "language_info": {
      "codemirror_mode": {
        "name": "ipython",
        "version": 3
      },
      "file_extension": ".py",
      "mimetype": "text/x-python",
      "name": "python",
      "nbconvert_exporter": "python",
      "pygments_lexer": "ipython3",
      "version": "3.8.8"
    },
    "colab": {
      "name": "Deep Learning with Tensorflow.ipynb",
      "provenance": []
    },
    "widgets": {
      "application/vnd.jupyter.widget-state+json": {
        "82e2079f551d40a49a7a5242d0466e68": {
          "model_module": "@jupyter-widgets/controls",
          "model_name": "HBoxModel",
          "state": {
            "_view_name": "HBoxView",
            "_dom_classes": [],
            "_model_name": "HBoxModel",
            "_view_module": "@jupyter-widgets/controls",
            "_model_module_version": "1.5.0",
            "_view_count": null,
            "_view_module_version": "1.5.0",
            "box_style": "",
            "layout": "IPY_MODEL_f4b68d653cf548a8bf57654c2535bc6b",
            "_model_module": "@jupyter-widgets/controls",
            "children": [
              "IPY_MODEL_3875f80ff1b7414d9f3ed8f6c9a2fcf5",
              "IPY_MODEL_7d056107e02c47378c69ca623ec89fc2"
            ]
          }
        },
        "f4b68d653cf548a8bf57654c2535bc6b": {
          "model_module": "@jupyter-widgets/base",
          "model_name": "LayoutModel",
          "state": {
            "_view_name": "LayoutView",
            "grid_template_rows": null,
            "right": null,
            "justify_content": null,
            "_view_module": "@jupyter-widgets/base",
            "overflow": null,
            "_model_module_version": "1.2.0",
            "_view_count": null,
            "flex_flow": null,
            "width": null,
            "min_width": null,
            "border": null,
            "align_items": null,
            "bottom": null,
            "_model_module": "@jupyter-widgets/base",
            "top": null,
            "grid_column": null,
            "overflow_y": null,
            "overflow_x": null,
            "grid_auto_flow": null,
            "grid_area": null,
            "grid_template_columns": null,
            "flex": null,
            "_model_name": "LayoutModel",
            "justify_items": null,
            "grid_row": null,
            "max_height": null,
            "align_content": null,
            "visibility": null,
            "align_self": null,
            "height": null,
            "min_height": null,
            "padding": null,
            "grid_auto_rows": null,
            "grid_gap": null,
            "max_width": null,
            "order": null,
            "_view_module_version": "1.2.0",
            "grid_template_areas": null,
            "object_position": null,
            "object_fit": null,
            "grid_auto_columns": null,
            "margin": null,
            "display": null,
            "left": null
          }
        },
        "3875f80ff1b7414d9f3ed8f6c9a2fcf5": {
          "model_module": "@jupyter-widgets/controls",
          "model_name": "FloatProgressModel",
          "state": {
            "_view_name": "ProgressView",
            "style": "IPY_MODEL_5c2f8b7541934a1e9a2503f0f7dc017c",
            "_dom_classes": [],
            "description": "Dl Completed...: 100%",
            "_model_name": "FloatProgressModel",
            "bar_style": "success",
            "max": 4,
            "_view_module": "@jupyter-widgets/controls",
            "_model_module_version": "1.5.0",
            "value": 4,
            "_view_count": null,
            "_view_module_version": "1.5.0",
            "orientation": "horizontal",
            "min": 0,
            "description_tooltip": null,
            "_model_module": "@jupyter-widgets/controls",
            "layout": "IPY_MODEL_2fe95aca4dcc427aa9ae87c5db5cabd0"
          }
        },
        "7d056107e02c47378c69ca623ec89fc2": {
          "model_module": "@jupyter-widgets/controls",
          "model_name": "HTMLModel",
          "state": {
            "_view_name": "HTMLView",
            "style": "IPY_MODEL_f58bf682c9c94ed1b8e624f0a1ae8bdd",
            "_dom_classes": [],
            "description": "",
            "_model_name": "HTMLModel",
            "placeholder": "​",
            "_view_module": "@jupyter-widgets/controls",
            "_model_module_version": "1.5.0",
            "value": " 4/4 [00:06&lt;00:00,  1.55s/ file]",
            "_view_count": null,
            "_view_module_version": "1.5.0",
            "description_tooltip": null,
            "_model_module": "@jupyter-widgets/controls",
            "layout": "IPY_MODEL_142f713708cf4723b71faa3af40cfcad"
          }
        },
        "5c2f8b7541934a1e9a2503f0f7dc017c": {
          "model_module": "@jupyter-widgets/controls",
          "model_name": "ProgressStyleModel",
          "state": {
            "_view_name": "StyleView",
            "_model_name": "ProgressStyleModel",
            "description_width": "initial",
            "_view_module": "@jupyter-widgets/base",
            "_model_module_version": "1.5.0",
            "_view_count": null,
            "_view_module_version": "1.2.0",
            "bar_color": null,
            "_model_module": "@jupyter-widgets/controls"
          }
        },
        "2fe95aca4dcc427aa9ae87c5db5cabd0": {
          "model_module": "@jupyter-widgets/base",
          "model_name": "LayoutModel",
          "state": {
            "_view_name": "LayoutView",
            "grid_template_rows": null,
            "right": null,
            "justify_content": null,
            "_view_module": "@jupyter-widgets/base",
            "overflow": null,
            "_model_module_version": "1.2.0",
            "_view_count": null,
            "flex_flow": null,
            "width": null,
            "min_width": null,
            "border": null,
            "align_items": null,
            "bottom": null,
            "_model_module": "@jupyter-widgets/base",
            "top": null,
            "grid_column": null,
            "overflow_y": null,
            "overflow_x": null,
            "grid_auto_flow": null,
            "grid_area": null,
            "grid_template_columns": null,
            "flex": null,
            "_model_name": "LayoutModel",
            "justify_items": null,
            "grid_row": null,
            "max_height": null,
            "align_content": null,
            "visibility": null,
            "align_self": null,
            "height": null,
            "min_height": null,
            "padding": null,
            "grid_auto_rows": null,
            "grid_gap": null,
            "max_width": null,
            "order": null,
            "_view_module_version": "1.2.0",
            "grid_template_areas": null,
            "object_position": null,
            "object_fit": null,
            "grid_auto_columns": null,
            "margin": null,
            "display": null,
            "left": null
          }
        },
        "f58bf682c9c94ed1b8e624f0a1ae8bdd": {
          "model_module": "@jupyter-widgets/controls",
          "model_name": "DescriptionStyleModel",
          "state": {
            "_view_name": "StyleView",
            "_model_name": "DescriptionStyleModel",
            "description_width": "",
            "_view_module": "@jupyter-widgets/base",
            "_model_module_version": "1.5.0",
            "_view_count": null,
            "_view_module_version": "1.2.0",
            "_model_module": "@jupyter-widgets/controls"
          }
        },
        "142f713708cf4723b71faa3af40cfcad": {
          "model_module": "@jupyter-widgets/base",
          "model_name": "LayoutModel",
          "state": {
            "_view_name": "LayoutView",
            "grid_template_rows": null,
            "right": null,
            "justify_content": null,
            "_view_module": "@jupyter-widgets/base",
            "overflow": null,
            "_model_module_version": "1.2.0",
            "_view_count": null,
            "flex_flow": null,
            "width": null,
            "min_width": null,
            "border": null,
            "align_items": null,
            "bottom": null,
            "_model_module": "@jupyter-widgets/base",
            "top": null,
            "grid_column": null,
            "overflow_y": null,
            "overflow_x": null,
            "grid_auto_flow": null,
            "grid_area": null,
            "grid_template_columns": null,
            "flex": null,
            "_model_name": "LayoutModel",
            "justify_items": null,
            "grid_row": null,
            "max_height": null,
            "align_content": null,
            "visibility": null,
            "align_self": null,
            "height": null,
            "min_height": null,
            "padding": null,
            "grid_auto_rows": null,
            "grid_gap": null,
            "max_width": null,
            "order": null,
            "_view_module_version": "1.2.0",
            "grid_template_areas": null,
            "object_position": null,
            "object_fit": null,
            "grid_auto_columns": null,
            "margin": null,
            "display": null,
            "left": null
          }
        }
      }
    }
  },
  "cells": [
    {
      "cell_type": "markdown",
      "metadata": {
        "id": "cYlz54gOOfDq"
      },
      "source": [
        "# **Mini-project II.**\n",
        "\n",
        "# \"Deep Learning with Tensorflow and Keras\". MNIST dataset\n",
        "\n",
        "# Done by **Baglan AITU**."
      ],
      "id": "cYlz54gOOfDq"
    },
    {
      "cell_type": "markdown",
      "metadata": {
        "id": "material-middle"
      },
      "source": [
        "### Import the relevant packages"
      ],
      "id": "material-middle"
    },
    {
      "cell_type": "code",
      "metadata": {
        "id": "accessory-navigation"
      },
      "source": [
        "import numpy as np\n",
        "import tensorflow as tf\n",
        "\n",
        "import tensorflow_datasets as tfsd"
      ],
      "id": "accessory-navigation",
      "execution_count": null,
      "outputs": []
    },
    {
      "cell_type": "code",
      "metadata": {
        "id": "involved-fountain",
        "colab": {
          "base_uri": "https://localhost:8080/",
          "height": 202,
          "referenced_widgets": [
            "82e2079f551d40a49a7a5242d0466e68",
            "f4b68d653cf548a8bf57654c2535bc6b",
            "3875f80ff1b7414d9f3ed8f6c9a2fcf5",
            "7d056107e02c47378c69ca623ec89fc2",
            "5c2f8b7541934a1e9a2503f0f7dc017c",
            "2fe95aca4dcc427aa9ae87c5db5cabd0",
            "f58bf682c9c94ed1b8e624f0a1ae8bdd",
            "142f713708cf4723b71faa3af40cfcad"
          ]
        },
        "outputId": "ed0526d3-67ae-4e1b-a163-7d17dd5853a8"
      },
      "source": [
        "mnist_dataset,mnist_info=tfsd.load(name='mnist',with_info=True, as_supervised=True, shuffle_files=True)"
      ],
      "id": "involved-fountain",
      "execution_count": null,
      "outputs": [
        {
          "output_type": "stream",
          "text": [
            "\u001b[1mDownloading and preparing dataset mnist/3.0.1 (download: 11.06 MiB, generated: 21.00 MiB, total: 32.06 MiB) to /root/tensorflow_datasets/mnist/3.0.1...\u001b[0m\n"
          ],
          "name": "stdout"
        },
        {
          "output_type": "stream",
          "text": [
            "WARNING:absl:Dataset mnist is hosted on GCS. It will automatically be downloaded to your\n",
            "local data directory. If you'd instead prefer to read directly from our public\n",
            "GCS bucket (recommended if you're running on GCP), you can instead pass\n",
            "`try_gcs=True` to `tfds.load` or set `data_dir=gs://tfds-data/datasets`.\n",
            "\n"
          ],
          "name": "stderr"
        },
        {
          "output_type": "display_data",
          "data": {
            "application/vnd.jupyter.widget-view+json": {
              "model_id": "82e2079f551d40a49a7a5242d0466e68",
              "version_minor": 0,
              "version_major": 2
            },
            "text/plain": [
              "HBox(children=(FloatProgress(value=0.0, description='Dl Completed...', max=4.0, style=ProgressStyle(descriptio…"
            ]
          },
          "metadata": {
            "tags": []
          }
        },
        {
          "output_type": "stream",
          "text": [
            "\n",
            "\n",
            "\u001b[1mDataset mnist downloaded and prepared to /root/tensorflow_datasets/mnist/3.0.1. Subsequent calls will reuse this data.\u001b[0m\n"
          ],
          "name": "stdout"
        }
      ]
    },
    {
      "cell_type": "markdown",
      "metadata": {
        "id": "wooden-outside"
      },
      "source": [
        "### Data"
      ],
      "id": "wooden-outside"
    },
    {
      "cell_type": "markdown",
      "metadata": {
        "id": "needed-business"
      },
      "source": [
        "### Train and test datasets"
      ],
      "id": "needed-business"
    },
    {
      "cell_type": "code",
      "metadata": {
        "id": "intense-usage"
      },
      "source": [
        "mnist_train,mnist_test = mnist_dataset['train'],mnist_dataset['test']\n",
        "num_validation_samples = 0.0001*mnist_info.splits['train'].num_examples\n",
        "num_validation_samples = tf.cast(num_validation_samples,tf.int64)\n",
        "\n",
        "num_test_samples = mnist_info.splits['test'].num_examples\n",
        "num_test_samples = tf.cast(num_test_samples,tf.int64)\n",
        "\n"
      ],
      "id": "intense-usage",
      "execution_count": 43,
      "outputs": []
    },
    {
      "cell_type": "markdown",
      "metadata": {
        "id": "worse-swaziland"
      },
      "source": [
        "### Normalize train and test datasets"
      ],
      "id": "worse-swaziland"
    },
    {
      "cell_type": "code",
      "metadata": {
        "id": "cutting-original"
      },
      "source": [
        "def scale(image,label):\n",
        "    image=tf.cast(image,tf.float32)\n",
        "    image/=255.\n",
        "    return image,label\n",
        "\n",
        "scaled_train_and_validation_data=mnist_train.map(scale)\n",
        "scaled_test_data = mnist_test.map(scale)"
      ],
      "id": "cutting-original",
      "execution_count": 44,
      "outputs": []
    },
    {
      "cell_type": "markdown",
      "metadata": {
        "id": "absolute-elevation"
      },
      "source": [
        "### Shuffle Train dataset ang separate train and validation samples"
      ],
      "id": "absolute-elevation"
    },
    {
      "cell_type": "code",
      "metadata": {
        "id": "disturbed-bibliography"
      },
      "source": [
        "BUFFER_SIZE=10000\n",
        "\n",
        "shuffled_train_and_validation_data = scaled_train_and_validation_data.shuffle(BUFFER_SIZE)"
      ],
      "id": "disturbed-bibliography",
      "execution_count": 45,
      "outputs": []
    },
    {
      "cell_type": "markdown",
      "metadata": {
        "id": "welsh-organization"
      },
      "source": [
        "### Prepare for batching"
      ],
      "id": "welsh-organization"
    },
    {
      "cell_type": "code",
      "metadata": {
        "id": "international-experiment"
      },
      "source": [
        "validation_data = shuffled_train_and_validation_data.take(num_validation_samples)\n",
        "train_data = shuffled_train_and_validation_data.skip(num_validation_samples)\n",
        "\n",
        "BATCH_SIZE=30\n",
        "train_data=train_data.batch(BATCH_SIZE)\n",
        "validation_data = validation_data.batch(num_validation_samples)\n",
        "test_data = scaled_test_data.batch(num_test_samples)\n",
        "\n",
        "validation_inputs, validation_targets = next(iter(validation_data))"
      ],
      "id": "international-experiment",
      "execution_count": 46,
      "outputs": []
    },
    {
      "cell_type": "markdown",
      "metadata": {
        "id": "dental-membrane"
      },
      "source": [
        "### Model"
      ],
      "id": "dental-membrane"
    },
    {
      "cell_type": "code",
      "metadata": {
        "id": "proof-extreme"
      },
      "source": [
        "input_size = 784\n",
        "output_size = 10\n",
        "hidden_layer_size = 50\n",
        "\n",
        "model = tf.keras.Sequential([\n",
        "    tf.keras.layers.Flatten(input_shape=(28,28,1)),\n",
        "    tf.keras.layers.Dense(hidden_layer_size,activation='relu'),\n",
        "    tf.keras.layers.Dense(hidden_layer_size,activation='tanh'),\n",
        "    tf.keras.layers.Dense(hidden_layer_size,activation='sigmoid'),\n",
        "    tf.keras.layers.Dense(hidden_layer_size,activation='relu'),\n",
        "    tf.keras.layers.Dense(hidden_layer_size,activation='relu'),\n",
        "    tf.keras.layers.Dense(output_size,activation='softmax')\n",
        "])"
      ],
      "id": "proof-extreme",
      "execution_count": 47,
      "outputs": []
    },
    {
      "cell_type": "markdown",
      "metadata": {
        "id": "commercial-costs"
      },
      "source": [
        "### Choose the optimizer and the loss function"
      ],
      "id": "commercial-costs"
    },
    {
      "cell_type": "code",
      "metadata": {
        "id": "portuguese-carnival"
      },
      "source": [
        "model.compile(optimizer='adam',loss='sparse_categorical_crossentropy',metrics=['accuracy'])"
      ],
      "id": "portuguese-carnival",
      "execution_count": 48,
      "outputs": []
    },
    {
      "cell_type": "markdown",
      "metadata": {
        "id": "adaptive-heath"
      },
      "source": [
        "### Training"
      ],
      "id": "adaptive-heath"
    },
    {
      "cell_type": "code",
      "metadata": {
        "colab": {
          "base_uri": "https://localhost:8080/"
        },
        "id": "packed-mexico",
        "outputId": "35a29054-fca9-45e1-c86c-f8319492f865"
      },
      "source": [
        "NUM_EPOCHS=3\n",
        "\n",
        "model.fit(train_data,epochs=NUM_EPOCHS,validation_data=(validation_inputs, validation_targets),verbose=2)"
      ],
      "id": "packed-mexico",
      "execution_count": 49,
      "outputs": [
        {
          "output_type": "stream",
          "text": [
            "Epoch 1/3\n",
            "2000/2000 - 5s - loss: 0.3366 - accuracy: 0.8985 - val_loss: 0.0613 - val_accuracy: 1.0000\n",
            "Epoch 2/3\n",
            "2000/2000 - 5s - loss: 0.1343 - accuracy: 0.9597 - val_loss: 0.0125 - val_accuracy: 1.0000\n",
            "Epoch 3/3\n",
            "2000/2000 - 5s - loss: 0.1062 - accuracy: 0.9682 - val_loss: 0.0125 - val_accuracy: 1.0000\n"
          ],
          "name": "stdout"
        },
        {
          "output_type": "execute_result",
          "data": {
            "text/plain": [
              "<tensorflow.python.keras.callbacks.History at 0x7fb0bb619490>"
            ]
          },
          "metadata": {
            "tags": []
          },
          "execution_count": 49
        }
      ]
    },
    {
      "cell_type": "markdown",
      "metadata": {
        "id": "similar-scheme"
      },
      "source": [
        "### Test the model"
      ],
      "id": "similar-scheme"
    },
    {
      "cell_type": "code",
      "metadata": {
        "id": "remarkable-container",
        "colab": {
          "base_uri": "https://localhost:8080/"
        },
        "outputId": "ff334a3e-eb8a-4214-db25-fef4b44b0a1e"
      },
      "source": [
        "test_loss,test_accuracy=model.evaluate(test_data)"
      ],
      "id": "remarkable-container",
      "execution_count": 50,
      "outputs": [
        {
          "output_type": "stream",
          "text": [
            "1/1 [==============================] - 1s 561ms/step - loss: 0.1113 - accuracy: 0.9676\n"
          ],
          "name": "stdout"
        }
      ]
    }
  ]
}